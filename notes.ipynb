{
 "cells": [
  {
   "cell_type": "markdown",
   "metadata": {},
   "source": [
    "## **ALL  techniques :** "
   ]
  },
  {
   "cell_type": "markdown",
   "metadata": {},
   "source": [
    "### **PEFT and Familly of LoRA techniques** \n",
    "1. LoRA  (Low Rank Adaptation) \n",
    "2. LoRA + \n",
    "3. DyLoRA ( Dynamic Low Rank Adaptation) \n",
    "4. QLoRA  \n",
    "5. LoRA-drop \n",
    "6. LoRA-FA \n",
    "7. Delta- LoRA \n",
    "8. DoRA \n",
    "9. VeRA "
   ]
  },
  {
   "cell_type": "markdown",
   "metadata": {},
   "source": [
    "## **Here are some key LLM fine-tuning techniques:**\n",
    "\n",
    "1. Standard Fine-Tuning\n",
    "2. Adapter Tuning\n",
    "3. LoRA (Low-Rank Adaptation)\n",
    "4. Prefix Tuning\n",
    "5. Prompt Tuning\n",
    "6. P-Tuning\n",
    "7. Parameter-Efficient Fine-Tuning (PEFT)\n",
    "8. BitFit\n",
    "9. Mixout\n",
    "10. Distillation"
   ]
  },
  {
   "cell_type": "markdown",
   "metadata": {},
   "source": []
  }
 ],
 "metadata": {
  "kernelspec": {
   "display_name": "base",
   "language": "python",
   "name": "python3"
  },
  "language_info": {
   "codemirror_mode": {
    "name": "ipython",
    "version": 3
   },
   "file_extension": ".py",
   "mimetype": "text/x-python",
   "name": "python",
   "nbconvert_exporter": "python",
   "pygments_lexer": "ipython3",
   "version": "3.11.5"
  }
 },
 "nbformat": 4,
 "nbformat_minor": 2
}
